{
 "cells": [
  {
   "cell_type": "code",
   "execution_count": 2,
   "metadata": {},
   "outputs": [],
   "source": [
    "import pandas as pd\n"
   ]
  },
  {
   "cell_type": "code",
   "execution_count": 3,
   "metadata": {},
   "outputs": [
    {
     "data": {
      "text/plain": [
       "0       Epidemiological investigation suggested that t...\n",
       "1                                 [No abstract available]\n",
       "2                                 [No abstract available]\n",
       "3       The emergence of SARS-CoV-2 has led to the cur...\n",
       "4                                 [No abstract available]\n",
       "                              ...                        \n",
       "1772    The Coronaviridae family is characterized by a...\n",
       "1773    Fibrin deposition and thrombosis within the mi...\n",
       "1774    OBJECTIVE: To identify the transcription facto...\n",
       "1775    Objective: Signal transducer and activator of ...\n",
       "1776                              [No abstract available]\n",
       "Name: Abstract, Length: 1777, dtype: object"
      ]
     },
     "execution_count": 3,
     "metadata": {},
     "output_type": "execute_result"
    }
   ],
   "source": [
    "data = pd.read_csv('C:\\\\Users\\\\l1s18bscs0009\\\\Downloads\\\\c1.csv')\n",
    "abstractData= data['Abstract']\n",
    "abstractData"
   ]
  },
  {
   "cell_type": "code",
   "execution_count": 5,
   "metadata": {
    "scrolled": true
   },
   "outputs": [],
   "source": [
    "stopwords= pd.read_csv('C:\\\\Users\\\\l1s18bscs0009\\\\Downloads\\\\stopword.csv')"
   ]
  },
  {
   "cell_type": "code",
   "execution_count": 11,
   "metadata": {},
   "outputs": [],
   "source": [
    "\n",
    "for mystopword in stopwords:\n",
    "    \n",
    "    for i in abstractData:\n",
    "        splitData=i.split()\n",
    "        if mystopword in splitData:\n",
    "            splitData.remove(mystopword)\n",
    "        res = ' '.join([str(item) for item in splitData])\n",
    "        i=res\n",
    "        print(i)"
   ]
  },
  {
   "cell_type": "code",
   "execution_count": null,
   "metadata": {},
   "outputs": [],
   "source": []
  }
 ],
 "metadata": {
  "kernelspec": {
   "display_name": "Python 3",
   "language": "python",
   "name": "python3"
  }
 },
 "nbformat": 4,
 "nbformat_minor": 2
}
